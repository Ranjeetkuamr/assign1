{
 "cells": [
  {
   "cell_type": "code",
   "execution_count": 1,
   "id": "6e418c35",
   "metadata": {},
   "outputs": [],
   "source": [
    "# Q1. Create a Pandas Series that contains the following data: 4, 8, 15, 16, 23, and 42. Then, print the series."
   ]
  },
  {
   "cell_type": "code",
   "execution_count": 2,
   "id": "23ba4317",
   "metadata": {},
   "outputs": [
    {
     "name": "stdout",
     "output_type": "stream",
     "text": [
      "0     4\n",
      "1     8\n",
      "2    15\n",
      "3    16\n",
      "4    23\n",
      "5    42\n",
      "dtype: int64\n"
     ]
    }
   ],
   "source": [
    "import pandas as pd\n",
    "data = [4, 8, 15, 16, 23, 42]\n",
    "series = pd.Series(data)\n",
    "print(series)\n"
   ]
  },
  {
   "cell_type": "code",
   "execution_count": 3,
   "id": "391ef6bb",
   "metadata": {},
   "outputs": [],
   "source": [
    "#Q2. Create a variable of list type containing 10 elements in it, and apply pandas.Series function on the variable print it."
   ]
  },
  {
   "cell_type": "code",
   "execution_count": 13,
   "id": "70ee873b",
   "metadata": {},
   "outputs": [
    {
     "name": "stdout",
     "output_type": "stream",
     "text": [
      "0     1\n",
      "1     2\n",
      "2     3\n",
      "3     4\n",
      "4     5\n",
      "5     6\n",
      "6     7\n",
      "7     8\n",
      "8     9\n",
      "9    10\n",
      "dtype: int64\n"
     ]
    }
   ],
   "source": [
    "import pandas as pd\n",
    "data = [1, 2, 3, 4, 5, 6, 7, 8, 9, 10]\n",
    "series = pd.Series(data)\n",
    "print(series)\n"
   ]
  },
  {
   "cell_type": "code",
   "execution_count": 14,
   "id": "77118203",
   "metadata": {},
   "outputs": [],
   "source": [
    "# Q3. Create a Pandas DataFrame that contains the following data:"
   ]
  },
  {
   "cell_type": "code",
   "execution_count": 15,
   "id": "b35df48d",
   "metadata": {},
   "outputs": [
    {
     "name": "stdout",
     "output_type": "stream",
     "text": [
      "     Name  Age  Gender\n",
      "0   Alice   25  Female\n",
      "1     Bob   30    Male\n",
      "2  Claire   27  Female\n"
     ]
    }
   ],
   "source": [
    "import pandas as pd\n",
    "data = {\n",
    "  \"Name\": [\"Alice\", \"Bob\", \"Claire\"],\n",
    "  \"Age\": [25, 30, 27],\n",
    "  \"Gender\": [\"Female\", \"Male\", \"Female\"]\n",
    "}\n",
    "df = pd.DataFrame(data)\n",
    "print(df)\n"
   ]
  },
  {
   "cell_type": "code",
   "execution_count": 18,
   "id": "61b75e5a",
   "metadata": {},
   "outputs": [],
   "source": [
    "# Q4. What is ‘DataFrame’ in pandas and how is it different from pandas.series? Explain with an example."
   ]
  },
  {
   "cell_type": "code",
   "execution_count": null,
   "id": "fd8fb766",
   "metadata": {},
   "outputs": [],
   "source": [
    "DataFrame in pandas is a two-dimensional tabular data structure with labeled axes (rows and columns). It is a powerful data structure that can be used to store and manipulate data in a variety of ways."
   ]
  },
  {
   "cell_type": "code",
   "execution_count": 19,
   "id": "d7cf9437",
   "metadata": {},
   "outputs": [
    {
     "name": "stdout",
     "output_type": "stream",
     "text": [
      "   data\n",
      "0     1\n",
      "1     2\n",
      "2     3\n",
      "3     4\n",
      "4     5\n",
      "0    1\n",
      "1    2\n",
      "2    3\n",
      "3    4\n",
      "4    5\n",
      "dtype: int64\n"
     ]
    }
   ],
   "source": [
    "import pandas as pd\n",
    "\n",
    "data = [1, 2, 3, 4, 5]\n",
    "\n",
    "series = pd.Series(data)\n",
    "\n",
    "df = pd.DataFrame({\n",
    "  \"data\": data\n",
    "})\n",
    "\n",
    "print(df)\n",
    "print(series)\n"
   ]
  },
  {
   "cell_type": "code",
   "execution_count": 20,
   "id": "7c5aa72d",
   "metadata": {},
   "outputs": [],
   "source": [
    "# Q5. What are some common functions you can use to manipulate data in a Pandas DataFrame? Can you give an example of when you might use one of these functions?"
   ]
  },
  {
   "cell_type": "code",
   "execution_count": null,
   "id": "b86920ea",
   "metadata": {},
   "outputs": [],
   "source": [
    "df.head(5)\n",
    "df.tail(5)\n",
    "df.iloc[0:0]\n",
    "df.loc[0:0]\n",
    "df.describr()"
   ]
  },
  {
   "cell_type": "code",
   "execution_count": 22,
   "id": "164029b2",
   "metadata": {},
   "outputs": [],
   "source": [
    "# Q6. Which of the following is mutable in nature Series, DataFrame, Panel?"
   ]
  },
  {
   "cell_type": "code",
   "execution_count": null,
   "id": "26db055a",
   "metadata": {},
   "outputs": [],
   "source": [
    "\n",
    "A Series and a DataFrame are both mutable in nature. However, a Panel is not mutable.\n",
    "\n",
    "A Series is a one-dimensional labeled array. The values of a Series are mutable, but the size of a Series is immutable. This means that you can change the values of the elements in a Series, but you cannot add or remove elements from the Series.\n",
    "\n",
    "A DataFrame is a two-dimensional labeled array. The values of a DataFrame are mutable, and the size of a DataFrame is also mutable. This means that you can change the values of the elements in a DataFrame, and you can also add or remove rows and columns from a DataFrame.\n",
    "\n",
    "A Panel is a three-dimensional labeled array. The values of a Panel are mutable, but the size of a Panel is immutable. This means that you can change the values of the elements in a Panel, but you cannot add or remove rows, columns, or panels from a Panel."
   ]
  },
  {
   "cell_type": "code",
   "execution_count": 23,
   "id": "c2065a89",
   "metadata": {},
   "outputs": [],
   "source": [
    "# Create a DataFrame using multiple Series. Explain with an example."
   ]
  },
  {
   "cell_type": "code",
   "execution_count": null,
   "id": "038c068f",
   "metadata": {},
   "outputs": [],
   "source": [
    "import pandas as pd\n",
    "\n",
    "s1 = pd.Series([1, 2, 3, 4, 5])\n",
    "s2 = pd.Series([6, 7, 8, 9, 10])\n",
    "\n",
    "df = pd.DataFrame({\n",
    "  \"s1\": s1,\n",
    "  \"s2\": s2\n",
    "})\n",
    "\n",
    "print(df)\n"
   ]
  }
 ],
 "metadata": {
  "kernelspec": {
   "display_name": "Python 3 (ipykernel)",
   "language": "python",
   "name": "python3"
  },
  "language_info": {
   "codemirror_mode": {
    "name": "ipython",
    "version": 3
   },
   "file_extension": ".py",
   "mimetype": "text/x-python",
   "name": "python",
   "nbconvert_exporter": "python",
   "pygments_lexer": "ipython3",
   "version": "3.11.3"
  }
 },
 "nbformat": 4,
 "nbformat_minor": 5
}
